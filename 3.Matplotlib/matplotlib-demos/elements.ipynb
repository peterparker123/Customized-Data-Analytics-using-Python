{
 "cells": [
  {
   "cell_type": "code",
   "execution_count": null,
   "id": "a3b17488",
   "metadata": {},
   "outputs": [],
   "source": [
    "import numpy as np\n",
    "import matplotlib.pyplot as plt\n",
    "import save_fig as sf"
   ]
  },
  {
   "cell_type": "markdown",
   "id": "ba6a88d7",
   "metadata": {},
   "source": [
    "# Figure: a box-like container holding one or more Axes\n",
    "# Axes: actual plots\n",
    "# Axis\n",
    "# Tick marks, individual lines, legends, text boxes"
   ]
  },
  {
   "cell_type": "markdown",
   "id": "78f88bbf",
   "metadata": {},
   "source": [
    "fig, _ = plt.subplots()\n",
    "# print(type(fig))\n",
    "# <class 'matplotlib.figure.Figure'>"
   ]
  },
  {
   "cell_type": "markdown",
   "id": "d0935b0d",
   "metadata": {},
   "source": [
    "# fig has multiple Axes(a list, for which we take the first element)\n",
    "axes = fig.axes[0]\n",
    "# print(type(axes))\n",
    "# <class 'matplotlib.axes._subplots.AxesSubplot'>"
   ]
  },
  {
   "cell_type": "markdown",
   "id": "91901c77",
   "metadata": {},
   "source": [
    "# Each Axes has a yaxis and axis\n",
    "yaxis = axes.yaxis\n",
    "# print(type(yaxis))\n",
    "# <class 'matplotlib.axis.YAxis'>"
   ]
  },
  {
   "cell_type": "markdown",
   "id": "741d604e",
   "metadata": {},
   "source": [
    "# Each of yaxis, xaxis have a collection of \"major ticks\"\n",
    "# and we grab the first one\n",
    "one_tick = yaxis.get_major_ticks()[0]\n",
    "# print(type(one_tick))\n",
    "# <class 'matplotlib.axis.YTick'>"
   ]
  },
  {
   "cell_type": "markdown",
   "id": "55c86529",
   "metadata": {},
   "source": [
    "# Default to subplots(nrows=1, ncols=1)\n",
    "# fig, ax = plt.subplots()\n",
    "# Consequently, ax is a single AxesSubplot object\n",
    "# print(type(ax))\n",
    "# <class 'matplotlib.axes._subplots.AxesSubplot'>"
   ]
  },
  {
   "cell_type": "code",
   "execution_count": null,
   "id": "66e4e57c",
   "metadata": {
    "lines_to_next_cell": 2
   },
   "outputs": [],
   "source": []
  },
  {
   "cell_type": "markdown",
   "id": "64963c6d",
   "metadata": {},
   "source": [
    "rng = np.arange(50)\n",
    "# Three random time series\n",
    "rnd = np.random.randint(0, 10, size=(3, rng.size))\n",
    "# 1950 - 2000, x-axis\n",
    "yrs = 1950 + rng\n",
    "print('rng:\\n', rng)\n",
    "print('rnd:\\n', rnd)\n",
    "print('yrs:\\n', yrs)"
   ]
  },
  {
   "cell_type": "markdown",
   "id": "64c892b6",
   "metadata": {},
   "source": [
    "# One Figure containing one Axes\n",
    "fig, ax = plt.subplots(figsize=(5, 3))\n",
    "# Call methods of ax directly to create a stacked area chart and to add a legend, title, and y-axis label. Under the object-oriented approach, it's clearly that all of these are attributes of ax.\n",
    "ax.stackplot(yrs, rng + rnd, labels=['Eastasia', 'Eurasia', 'Oceania'])\n",
    "ax.set_title('Combined debt growth over time')\n",
    "ax.legend(loc='upper left')\n",
    "ax.set_ylabel('Total debt')\n",
    "ax.set_xlim(left=yrs[0], right=yrs[-1])\n",
    "# Applies to the Figure abject as a whole to clean up whitespace padding\n",
    "fig.tight_layout()\n",
    "plt.show()"
   ]
  },
  {
   "cell_type": "code",
   "execution_count": null,
   "id": "2602cf54",
   "metadata": {},
   "outputs": [],
   "source": []
  },
  {
   "cell_type": "code",
   "execution_count": null,
   "id": "76367b82",
   "metadata": {
    "lines_to_next_cell": 2
   },
   "outputs": [],
   "source": []
  },
  {
   "cell_type": "markdown",
   "id": "dc0bec05",
   "metadata": {},
   "source": [
    "# Because we'are creating a M x N Figure, now returns a Figure object and a Numpy array of Axes objects\n",
    "fig, axs = plt.subplots(nrows=5, ncols=7)\n",
    "print(type(axs))\n",
    "# <class 'numpy.ndarray'>\n",
    "print(axs.shape)\n",
    "# (5, 7)\n",
    "print(axs)\n",
    "[[<matplotlib.axes._subplots.AxesSubplot object at 0x0000026C612039B0>\n",
    "  <matplotlib.axes._subplots.AxesSubplot object at 0x0000026C61177470>\n",
    "  <matplotlib.axes._subplots.AxesSubplot object at 0x0000026C60DA49E8>\n",
    "  <matplotlib.axes._subplots.AxesSubplot object at 0x0000026C60DCBF60>\n",
    "  <matplotlib.axes._subplots.AxesSubplot object at 0x0000026C60E7B518>\n",
    "  <matplotlib.axes._subplots.AxesSubplot object at 0x0000026C60F64A90>\n",
    "  <matplotlib.axes._subplots.AxesSubplot object at 0x0000026C61017048>]\n",
    " [<matplotlib.axes._subplots.AxesSubplot object at 0x0000026C6103D588>\n",
    "  <matplotlib.axes._subplots.AxesSubplot object at 0x0000026C61062B38>\n",
    "  <matplotlib.axes._subplots.AxesSubplot object at 0x0000026C611190F0>\n",
    "  <matplotlib.axes._subplots.AxesSubplot object at 0x0000026C6113F668>\n",
    "  <matplotlib.axes._subplots.AxesSubplot object at 0x0000026C60CE7BE0>\n",
    "  <matplotlib.axes._subplots.AxesSubplot object at 0x0000026C60D57198>\n",
    "  <matplotlib.axes._subplots.AxesSubplot object at 0x0000026C60D7E710>]\n",
    " [<matplotlib.axes._subplots.AxesSubplot object at 0x0000026C60DE5C88>\n",
    "  <matplotlib.axes._subplots.AxesSubplot object at 0x0000026C60E14240>\n",
    "  <matplotlib.axes._subplots.AxesSubplot object at 0x0000026C60E3E7B8>\n",
    "  <matplotlib.axes._subplots.AxesSubplot object at 0x0000026C60FA5D30>\n",
    "  <matplotlib.axes._subplots.AxesSubplot object at 0x0000026C60FD52E8>\n",
    "  <matplotlib.axes._subplots.AxesSubplot object at 0x0000026C60FFB860>\n",
    "  <matplotlib.axes._subplots.AxesSubplot object at 0x0000026C610A5DD8>]\n",
    " [<matplotlib.axes._subplots.AxesSubplot object at 0x0000026C610D3390>\n",
    "  <matplotlib.axes._subplots.AxesSubplot object at 0x0000026C610FB908>\n",
    "  <matplotlib.axes._subplots.AxesSubplot object at 0x0000026C63324E80>\n",
    "  <matplotlib.axes._subplots.AxesSubplot object at 0x0000026C63353438>\n",
    "  <matplotlib.axes._subplots.AxesSubplot object at 0x0000026C6337A9B0>\n",
    "  <matplotlib.axes._subplots.AxesSubplot object at 0x0000026C633A3F28>\n",
    "  <matplotlib.axes._subplots.AxesSubplot object at 0x0000026C655E34E0>]\n",
    " [<matplotlib.axes._subplots.AxesSubplot object at 0x0000026C6560AA58>\n",
    "  <matplotlib.axes._subplots.AxesSubplot object at 0x0000026C65633FD0>\n",
    "  <matplotlib.axes._subplots.AxesSubplot object at 0x0000026C65662588>\n",
    "  <matplotlib.axes._subplots.AxesSubplot object at 0x0000026C65689B00>\n",
    "  <matplotlib.axes._subplots.AxesSubplot object at 0x0000026C656BA0B8>\n",
    "  <matplotlib.axes._subplots.AxesSubplot object at 0x0000026C656E1630>\n",
    "  <matplotlib.axes._subplots.AxesSubplot object at 0x0000026C65709BA8>]]"
   ]
  },
  {
   "cell_type": "markdown",
   "id": "edc4a76e",
   "metadata": {},
   "source": [
    "##### Multiple Axes in one figure\n",
    "x = np.random.randint(low=1, high=11, size=50)\n",
    "y = x + np.random.randint(1, 5, size=x.size)\n",
    "data = np.column_stack((x, y))"
   ]
  },
  {
   "cell_type": "markdown",
   "id": "17a8f080",
   "metadata": {},
   "source": [
    "# We deal with ax1, ax2 individually\n",
    "fig, (ax1, ax2) = plt.subplots(\n",
    "    nrows=1, ncols=2,\n",
    "    figsize=(8, 4)\n",
    ")\n",
    "# Remember that multiple Axes can be enclosed in or \"belong to\" a given figure, `fig.axes` gets us a list of all the Axes objects:\n",
    "print(\n",
    "    fig.axes[0] is ax1, fig.axes[1] is ax2\n",
    ")\n",
    "# True True"
   ]
  },
  {
   "cell_type": "markdown",
   "id": "2c55c7d7",
   "metadata": {},
   "source": [
    "# Scatter plot\n",
    "ax1.scatter(x=x, y=y, marker='o', c='r', edgecolor='b')\n",
    "# Support TeX markup, put variables in italics\n",
    "ax1.set_title('Scatter: $x$ versus $y$')\n",
    "ax1.set_xlabel('$x$')\n",
    "ax1.set_ylabel('$y$')"
   ]
  },
  {
   "cell_type": "markdown",
   "id": "236df240",
   "metadata": {},
   "source": [
    "# Histgram\n",
    "ax2.hist(data, bins=np.arange(data.min(), data.max()), label=('x', 'y'))\n",
    "ax2.legend(loc=(0.65, 0.8))\n",
    "ax2.set_title('Frequencies of $x$ and $y$')\n",
    "# Modify the yaxis belonging to the second Axes, placing its ticks and ticklabels to the right\n",
    "ax2.yaxis.tick_right()\n",
    "# fig.tight_layout()\n",
    "plt.show()"
   ]
  },
  {
   "cell_type": "code",
   "execution_count": null,
   "id": "d158c5e6",
   "metadata": {},
   "outputs": [],
   "source": []
  },
  {
   "cell_type": "code",
   "execution_count": null,
   "id": "24d82a13",
   "metadata": {},
   "outputs": [],
   "source": []
  },
  {
   "cell_type": "code",
   "execution_count": null,
   "id": "92b1d390",
   "metadata": {},
   "outputs": [],
   "source": []
  },
  {
   "cell_type": "code",
   "execution_count": null,
   "id": "7f6a64be",
   "metadata": {
    "lines_to_next_cell": 2
   },
   "outputs": [],
   "source": []
  },
  {
   "cell_type": "markdown",
   "id": "21a39b8d",
   "metadata": {},
   "source": [
    "# We now need to call plotting methods on each of these Axes (but not the NumPy array, which is just a container in this case). A common way to address this is to use iterable unpacking after flattening the array to be one-dimensional:\n",
    "fig, ax = plt.subplots(\n",
    "    nrows=2, ncols=2,\n",
    "    figsize=(7, 7)\n",
    ")\n",
    "ax1, ax2, ax3, ax4 = ax.flatten()\n",
    "# Less flexible:\n",
    "# ((ax1, ax2), (ax3, ax4)) = ax"
   ]
  },
  {
   "cell_type": "code",
   "execution_count": null,
   "id": "f3c9c268",
   "metadata": {},
   "outputs": [],
   "source": []
  },
  {
   "cell_type": "code",
   "execution_count": null,
   "id": "03378bed",
   "metadata": {},
   "outputs": [],
   "source": []
  },
  {
   "cell_type": "code",
   "execution_count": null,
   "id": "d4e2c6b6",
   "metadata": {},
   "outputs": [],
   "source": []
  },
  {
   "cell_type": "code",
   "execution_count": null,
   "id": "d463083a",
   "metadata": {},
   "outputs": [],
   "source": []
  },
  {
   "cell_type": "code",
   "execution_count": null,
   "id": "ffc03a53",
   "metadata": {},
   "outputs": [],
   "source": []
  },
  {
   "cell_type": "code",
   "execution_count": null,
   "id": "7050ff59",
   "metadata": {},
   "outputs": [],
   "source": []
  },
  {
   "cell_type": "code",
   "execution_count": null,
   "id": "e5775ad1",
   "metadata": {},
   "outputs": [],
   "source": []
  },
  {
   "cell_type": "code",
   "execution_count": null,
   "id": "87085d66",
   "metadata": {},
   "outputs": [],
   "source": []
  },
  {
   "cell_type": "markdown",
   "id": "e6e8e3e0",
   "metadata": {},
   "source": [
    "# More advanced subplot features\n",
    "from io import BytesIO\n",
    "import tarfile\n",
    "from urllib.request import urlopen"
   ]
  },
  {
   "cell_type": "markdown",
   "id": "71d16558",
   "metadata": {},
   "source": [
    "url = 'http://www.dcc.fc.up.pt/~ltorgo/Regression/cal_housing.tgz'\n",
    "b = BytesIO(urlopen(url).read())\n",
    "housing = []\n",
    "fpath = 'CaliforniaHousing/cal_housing.data'\n",
    "with tarfile.open(mode='r', fileobj=b) as archive:\n",
    "    housing = np.loadtxt(archive.extractfile(fpath), delimiter=',')"
   ]
  },
  {
   "cell_type": "markdown",
   "id": "27f3c369",
   "metadata": {},
   "source": [
    "y = housing[:,-1]\n",
    "pop, age = housing[:, [4, 7]].T"
   ]
  },
  {
   "cell_type": "markdown",
   "id": "1f7d8242",
   "metadata": {},
   "source": [
    "def add_titlebox(ax, text):\n",
    "    \"\"\"\n",
    "    a “helper function” that places a text box inside of a plot and acts as an “in-plot title”\n",
    "    \"\"\"\n",
    "    ax.text(.55, .8, text,\n",
    "        horizontalalignment='center',\n",
    "        transform=ax.transAxes,\n",
    "        bbox=dict(facecolor='white', alpha=0.6),\n",
    "        fontsize=12.5)\n",
    "    return ax"
   ]
  },
  {
   "cell_type": "markdown",
   "id": "be0b9721",
   "metadata": {},
   "source": [
    "# `gridspec` allows for more subplot customization. `subplot2grid()` interacts with this module nicely. Let's say we want to create a layout like this:\n",
    "# =========== ax1 ==========\n",
    "# =========== ax1 ==========\n",
    "# ==== ax2 ==== ==== ax3 ====\n",
    "# What we actually have is a 3x2 grid, ax1 is twice the height and width of ax2/ax3, meaning that it takes up two columns and two rows."
   ]
  },
  {
   "cell_type": "markdown",
   "id": "612d364c",
   "metadata": {},
   "source": [
    "# The second argument to subplot2grid() is the (row, column) location of the Axes within the grid:\n",
    "gridsize = (3, 2)\n",
    "fig = plt.figure(figsize=(12, 8))\n",
    "ax1 = plt.subplot2grid(gridsize, (0, 0), colspan=2, rowspan=2)\n",
    "ax2 = plt.subplot2grid(gridsize, (2, 0))\n",
    "ax3 = plt.subplot2grid(gridsize, (2, 1))"
   ]
  },
  {
   "cell_type": "markdown",
   "id": "fc15532b",
   "metadata": {},
   "source": [
    "# Now we can proceed as normal, modifying each Axis individually:\n",
    "ax1.set_title('Home value as a function of home age & area population', fontsize=14)\n",
    "sctr = ax1.scatter(x=age, y=pop, c=y, cmap='RdYlGn')\n",
    "# colorbar() gets called on the Figure directly, rather than the Axes, the first argument is the result of `ax1.scatter()`, which functions as a mapping of y-values to ColorMap\n",
    "plt.colorbar(sctr, ax=ax1, format='$%d')\n",
    "ax1.set_yscale('log')\n",
    "ax2.hist(age, bins='auto')\n",
    "ax3.hist(pop, bins='auto', log=True)"
   ]
  },
  {
   "cell_type": "markdown",
   "id": "553f9ecb",
   "metadata": {},
   "source": [
    "add_titlebox(ax2, 'Histogram: home age')\n",
    "add_titlebox(ax3, 'Histogram: area population (log scl.)')\n",
    "plt.show()"
   ]
  },
  {
   "cell_type": "code",
   "execution_count": null,
   "id": "bc53cd82",
   "metadata": {},
   "outputs": [],
   "source": []
  },
  {
   "cell_type": "code",
   "execution_count": null,
   "id": "c586463b",
   "metadata": {},
   "outputs": [],
   "source": []
  },
  {
   "cell_type": "code",
   "execution_count": null,
   "id": "7fc1bd38",
   "metadata": {},
   "outputs": [],
   "source": []
  },
  {
   "cell_type": "code",
   "execution_count": null,
   "id": "d2e3b244",
   "metadata": {},
   "outputs": [],
   "source": []
  },
  {
   "cell_type": "code",
   "execution_count": null,
   "id": "dfcee923",
   "metadata": {},
   "outputs": [],
   "source": []
  },
  {
   "cell_type": "code",
   "execution_count": null,
   "id": "a52b3d8d",
   "metadata": {},
   "outputs": [],
   "source": []
  },
  {
   "cell_type": "code",
   "execution_count": null,
   "id": "6cb69b10",
   "metadata": {},
   "outputs": [],
   "source": []
  },
  {
   "cell_type": "code",
   "execution_count": null,
   "id": "7750c5fe",
   "metadata": {
    "lines_to_next_cell": 2
   },
   "outputs": [],
   "source": []
  },
  {
   "cell_type": "markdown",
   "id": "fd0d3ed1",
   "metadata": {},
   "source": [
    "Methods that get heavy use are inshow() and matshow(), with the latter being a wrapper around the former. There are useful anytime that a raw numerical array can be visualized as a colored grid."
   ]
  },
  {
   "cell_type": "code",
   "execution_count": null,
   "id": "25176696",
   "metadata": {},
   "outputs": [],
   "source": [
    "x = np.diag(np.arange(2, 12))[::-1]\n",
    "x[np.diag_indices_from(x[::-1])] = np.arange(2, 12)\n",
    "x2 = np.arange(x.size).reshape(x.shape)\n",
    "print(x2)"
   ]
  },
  {
   "cell_type": "markdown",
   "id": "8f21ddf1",
   "metadata": {},
   "source": [
    "Now we can map these to their image representations. In this specific, we toggle \"off\" all axis labels and ticks by using a dictionary comprehension and passing the result to `ax.tick_params()`"
   ]
  },
  {
   "cell_type": "code",
   "execution_count": null,
   "id": "7af392af",
   "metadata": {},
   "outputs": [],
   "source": [
    "sides = ('left', 'right', 'top', 'bottom')\n",
    "nolabels = {s: False for s in sides}\n",
    "nolabels.update({'label%s' % s: False for s in sides})\n",
    "# print(nolabels)\n",
    "# {'left': False, 'right': False, 'top': False, 'bottom': False, 'labelleft': False,\n",
    "#  'labelright': False, 'labeltop': False, 'labelbottom': False}"
   ]
  },
  {
   "cell_type": "code",
   "execution_count": null,
   "id": "34f415ae",
   "metadata": {},
   "outputs": [],
   "source": [
    "from mpl_toolkits.axes_grid1.axes_divider import make_axes_locatable\n",
    "with plt.rc_context(rc={'axes.grid': False}):\n",
    "    fig, (ax1, ax2) = plt.subplots(1, 2, figsize=(8, 4))\n",
    "    ax1.matshow(x)\n",
    "    img2 = ax2.matshow(x2, cmap='RdYlGn_r')\n",
    "    for ax in (ax1, ax2):\n",
    "        # toggle off all axis labels and ticks\n",
    "        ax.tick_params(axis='both', which='both', **nolabels)\n",
    "    # print(x.nonzero())\n",
    "    for i, j in zip(*x.nonzero()):\n",
    "        ax1.text(j, i, x[i, j], color='white', ha='center', va='center')\n",
    "    \n",
    "    divider = make_axes_locatable(ax2)\n",
    "    cax = divider.append_axes(\"right\", size='5%', pad=1)\n",
    "    plt.colorbar(img2, cax=cax, ax=[ax1, ax2])\n",
    "    fig.suptitle('Heatmaps with `Axes.matshow`', fontsize=16)"
   ]
  },
  {
   "cell_type": "code",
   "execution_count": null,
   "id": "34a8088a",
   "metadata": {},
   "outputs": [],
   "source": [
    "plt.show()\n",
    "# sf.save_to_file('matshow')"
   ]
  }
 ],
 "metadata": {
  "jupytext": {
   "cell_metadata_filter": "-all",
   "main_language": "python",
   "notebook_metadata_filter": "-all"
  }
 },
 "nbformat": 4,
 "nbformat_minor": 5
}
